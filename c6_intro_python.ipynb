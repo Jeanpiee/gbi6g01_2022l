{
  "nbformat": 4,
  "nbformat_minor": 0,
  "metadata": {
    "colab": {
      "name": "c6_intro_python.ipynb",
      "provenance": [],
      "authorship_tag": "ABX9TyPp3PI2N4PLDcnlnOP63kbQ",
      "include_colab_link": true
    },
    "kernelspec": {
      "name": "python3",
      "display_name": "Python 3"
    },
    "language_info": {
      "name": "python"
    }
  },
  "cells": [
    {
      "cell_type": "markdown",
      "metadata": {
        "id": "view-in-github",
        "colab_type": "text"
      },
      "source": [
        "<a href=\"https://colab.research.google.com/github/Jeanpiee/gbi6g01_2022l/blob/main/c6_intro_python.ipynb\" target=\"_parent\"><img src=\"https://colab.research.google.com/assets/colab-badge.svg\" alt=\"Open In Colab\"/></a>"
      ]
    },
    {
      "cell_type": "markdown",
      "source": [
        "# BIOINFORMAICA \n",
        "\n",
        "## CLASE 6: Introduccion a Python \n",
        "\n",
        "En esta clases vamos a revisar los siguientes contenidos: \n",
        "\n",
        "1.   Historia de Python\n",
        "2.   Tipos de datos\n",
        "3. Operaciones con numeros\n",
        "4. Operaciones con texto\n",
        "\n",
        "\n",
        "## 1. HISTORIA PYTHON\n",
        "\n",
        "La historia de Python se puede leer en la  \n",
        " [pagina web de python](https://docs.python.org/3/)\n",
        "\n",
        "\n",
        "\n",
        "\n"
      ],
      "metadata": {
        "id": "2UpJ_ptlyi2l"
      }
    },
    {
      "cell_type": "code",
      "source": [
        ""
      ],
      "metadata": {
        "id": "cevyJqS8yb9F"
      },
      "execution_count": null,
      "outputs": []
    },
    {
      "cell_type": "markdown",
      "source": [
        "## 2. TIPOS DE DATOS\n",
        "\n",
        "- Numericos: enteros (integer, int), decimales(double), complejos (complex). \n",
        "- Logicos: Verdadero (TRUE, T), Falso (FALSE, F)\n",
        "- Texto: cadena de caracteres \"Siempre entre comillas\""
      ],
      "metadata": {
        "id": "9cQrS9oN09aZ"
      }
    },
    {
      "cell_type": "code",
      "source": [
        "gen1_r = 1.5\n",
        "gen1_h = 1.7\n",
        "dif_gen1 = gen1_r - gen1_h\n",
        "ratio_gen1 = gen1_r / gen1_h\n",
        "\n"
      ],
      "metadata": {
        "id": "JtxaN4qH1vIV"
      },
      "execution_count": 3,
      "outputs": []
    },
    {
      "cell_type": "code",
      "source": [
        "print(\"gen1_h:\", gen1_h)\n",
        "print(\"gen1_r:\" , gen1_r)\n",
        "print(\"dif_gen1:\" , dif_gen1)\n",
        "print(\"ratio_gen1:\" , ratio_gen1)"
      ],
      "metadata": {
        "colab": {
          "base_uri": "https://localhost:8080/"
        },
        "id": "fdehRZZO6Ybh",
        "outputId": "d6d40eed-963d-4d9f-c2fb-66430acb97fb"
      },
      "execution_count": 5,
      "outputs": [
        {
          "output_type": "stream",
          "name": "stdout",
          "text": [
            "gen1_h: 1.7\n",
            "gen1_r: 1.5\n",
            "dif_gen1: -0.19999999999999996\n",
            "ratio_gen1: 0.8823529411764706\n"
          ]
        }
      ]
    },
    {
      "cell_type": "markdown",
      "source": [
        "## Operaciones con texto"
      ],
      "metadata": {
        "id": "abhN0o3V8Vgx"
      }
    },
    {
      "cell_type": "code",
      "source": [
        "saludo = \"hola con todos, que bueno que no hay examen\"\n",
        "saludo.upper()"
      ],
      "metadata": {
        "colab": {
          "base_uri": "https://localhost:8080/",
          "height": 35
        },
        "id": "k8trz9o-1wuv",
        "outputId": "70e287d5-b917-4830-8fba-368bc21c9b28"
      },
      "execution_count": 13,
      "outputs": [
        {
          "output_type": "execute_result",
          "data": {
            "text/plain": [
              "'HOLA CON TODOS, QUE BUENO QUE NO HAY EXAMEN'"
            ],
            "application/vnd.google.colaboratory.intrinsic+json": {
              "type": "string"
            }
          },
          "metadata": {},
          "execution_count": 13
        }
      ]
    },
    {
      "cell_type": "code",
      "source": [
        "len(saludo)"
      ],
      "metadata": {
        "colab": {
          "base_uri": "https://localhost:8080/"
        },
        "id": "Oe5yBjGC9res",
        "outputId": "7421dd76-087a-46c9-bf72-bcdfec1d250a"
      },
      "execution_count": 14,
      "outputs": [
        {
          "output_type": "execute_result",
          "data": {
            "text/plain": [
              "43"
            ]
          },
          "metadata": {},
          "execution_count": 14
        }
      ]
    },
    {
      "cell_type": "code",
      "source": [
        "# En este bloque se revisa el uso combinado de funciones\n",
        "total = len(saludo)\n",
        "char_a = saludo.count(\"a\")\n",
        "ration_a = 100*char_a / total\n",
        "print(\"Porcentaje de a:\", ration_a)"
      ],
      "metadata": {
        "colab": {
          "base_uri": "https://localhost:8080/"
        },
        "id": "XIur9JyM-u7R",
        "outputId": "01ffca7c-96a9-4c4a-a545-61b3f052e878"
      },
      "execution_count": 17,
      "outputs": [
        {
          "output_type": "stream",
          "name": "stdout",
          "text": [
            "Porcentaje de a: 6.976744186046512\n"
          ]
        }
      ]
    },
    {
      "cell_type": "code",
      "source": [
        "round(ration_a, 2)"
      ],
      "metadata": {
        "colab": {
          "base_uri": "https://localhost:8080/"
        },
        "id": "1YG0Kg-Q_0Y3",
        "outputId": "e5150a60-25bd-4349-c112-4cd15c47f11a"
      },
      "execution_count": 18,
      "outputs": [
        {
          "output_type": "execute_result",
          "data": {
            "text/plain": [
              "6.98"
            ]
          },
          "metadata": {},
          "execution_count": 18
        }
      ]
    },
    {
      "cell_type": "markdown",
      "source": [
        "## Porcentaje de GC\n",
        "\n",
        "Calcular el porcentaje de contenido de nucleotidos G y C  en la siguiente secuencia\n"
      ],
      "metadata": {
        "id": "lzCu-tvy__rD"
      }
    },
    {
      "cell_type": "code",
      "source": [
        "p53_l1 = \"TTCCTGGNCTGTAGGTAGCGACTACAGTTAGGGGGCACCTAGCATTCAGGCCCTCATCCTCCTCCTTCCCAGCAGGGTGTCACGCTTCTCCGAAGACTGGATGACTGCCATGGAGGAGTCACAGTCGGATATCAGCCTCGAGCTCCCTCTGAGCCAGGAGACATTTTCAGGCTTATGGAAACTACTTCCTCCAGAAGATATCCTGCCATC\""
      ],
      "metadata": {
        "id": "OUnJ4Wk6AMpv"
      },
      "execution_count": 66,
      "outputs": []
    },
    {
      "cell_type": "markdown",
      "source": [
        "calcular el porcentaje de Gc"
      ],
      "metadata": {
        "id": "KuW7wyZgBox3"
      }
    },
    {
      "cell_type": "code",
      "source": [
        "p53_l1 = \"TTCCTGGNCTGTAGGTAGCGACTACAGTTAGGGGGCACCTAGCATTCAGGCCCTCATCCTCCTCCTTCCC\"\n",
        "total = len(p53_l1)\n",
        "char_G = p53_l1.count(\"G\")\n",
        "ration_G = 100*char_G / total\n",
        "print(\"Porcentaje de G:\", ration_G)\n"
      ],
      "metadata": {
        "colab": {
          "base_uri": "https://localhost:8080/"
        },
        "id": "3TmGtNGrBvDl",
        "outputId": "e4c53d8b-d9dc-4a01-9c77-9fcfc4367a2e"
      },
      "execution_count": 67,
      "outputs": [
        {
          "output_type": "stream",
          "name": "stdout",
          "text": [
            "Porcentaje de G: 22.857142857142858\n"
          ]
        }
      ]
    },
    {
      "cell_type": "code",
      "source": [
        "total = len(p53_l1)\n",
        "char_C = p53_l1.count(\"C\")\n",
        "ration_C = 100*char_C / total\n",
        "print(\"Porcentaje de C:\", ration_C)"
      ],
      "metadata": {
        "colab": {
          "base_uri": "https://localhost:8080/"
        },
        "id": "ijTGrA6TC0i2",
        "outputId": "6c80a6a7-5244-40fa-fbf3-4993866e9c63"
      },
      "execution_count": 68,
      "outputs": [
        {
          "output_type": "stream",
          "name": "stdout",
          "text": [
            "Porcentaje de C: 34.285714285714285\n"
          ]
        }
      ]
    },
    {
      "cell_type": "code",
      "source": [
        "ration_G + ration_C \n",
        "round(ration_G + ration_C, 3)"
      ],
      "metadata": {
        "colab": {
          "base_uri": "https://localhost:8080/"
        },
        "id": "blrCLUxwDJAQ",
        "outputId": "1ecac536-9d39-4f44-c9bc-1965ac8111e1"
      },
      "execution_count": 69,
      "outputs": [
        {
          "output_type": "execute_result",
          "data": {
            "text/plain": [
              "57.143"
            ]
          },
          "metadata": {},
          "execution_count": 69
        }
      ]
    },
    {
      "cell_type": "code",
      "source": [
        "percent_GC = 100*(p53_l1.count(\"G\") + p53_l1.count(\"C\"))/len(p53_l1)\n",
        "print(\"Porcentaje GC en P53_linea1:\", round(percent_GC, 3))"
      ],
      "metadata": {
        "colab": {
          "base_uri": "https://localhost:8080/"
        },
        "id": "ATjeTbr5FFoR",
        "outputId": "cfc5f2f5-1b35-4473-c541-c0c57c49e5e4"
      },
      "execution_count": 70,
      "outputs": [
        {
          "output_type": "stream",
          "name": "stdout",
          "text": [
            "Porcentaje GC en P53_linea1: 57.143\n"
          ]
        }
      ]
    },
    {
      "cell_type": "code",
      "source": [
        "# subconjunto\n",
        "print(p53_l1)\n",
        "fi = p53_l1.find(\"TAC\") # Si se tiene\n",
        "ff1 = p53_l1.find(\"ATT\") # si se tiene \n",
        "ff2 = p53_l1.find(\"ATC\")\n",
        "ff3 = p53_l1.find(\"ACT\")\n"
      ],
      "metadata": {
        "colab": {
          "base_uri": "https://localhost:8080/"
        },
        "id": "Nr0pUtE0MkKN",
        "outputId": "5c690a68-c281-4e7f-e0e9-8fd163688973"
      },
      "execution_count": 71,
      "outputs": [
        {
          "output_type": "stream",
          "name": "stdout",
          "text": [
            "TTCCTGGNCTGTAGGTAGCGACTACAGTTAGGGGGCACCTAGCATTCAGGCCCTCATCCTCCTCCTTCCC\n"
          ]
        }
      ]
    },
    {
      "cell_type": "code",
      "source": [
        "p53_l1[3:6]"
      ],
      "metadata": {
        "colab": {
          "base_uri": "https://localhost:8080/",
          "height": 35
        },
        "id": "knAx2cxYQMEp",
        "outputId": "c2573575-e098-4477-bfa0-fa4ade208c94"
      },
      "execution_count": 72,
      "outputs": [
        {
          "output_type": "execute_result",
          "data": {
            "text/plain": [
              "'CTG'"
            ],
            "application/vnd.google.colaboratory.intrinsic+json": {
              "type": "string"
            }
          },
          "metadata": {},
          "execution_count": 72
        }
      ]
    },
    {
      "cell_type": "code",
      "source": [
        "p53_l1[0:2]"
      ],
      "metadata": {
        "colab": {
          "base_uri": "https://localhost:8080/",
          "height": 35
        },
        "id": "sh3hsNdHPCDM",
        "outputId": "31cc0c4c-57a7-413f-874f-fbfb67d3559d"
      },
      "execution_count": 73,
      "outputs": [
        {
          "output_type": "execute_result",
          "data": {
            "text/plain": [
              "'TT'"
            ],
            "application/vnd.google.colaboratory.intrinsic+json": {
              "type": "string"
            }
          },
          "metadata": {},
          "execution_count": 73
        }
      ]
    },
    {
      "cell_type": "code",
      "source": [
        "mRNA_f1 = p53_l1[fi:ff1+3]\n",
        "mRNA_f1"
      ],
      "metadata": {
        "colab": {
          "base_uri": "https://localhost:8080/",
          "height": 35
        },
        "id": "y65kxT8KQUGn",
        "outputId": "69b425af-778c-45a6-a9ce-bdbe4aff102b"
      },
      "execution_count": 74,
      "outputs": [
        {
          "output_type": "execute_result",
          "data": {
            "text/plain": [
              "'TACAGTTAGGGGGCACCTAGCATT'"
            ],
            "application/vnd.google.colaboratory.intrinsic+json": {
              "type": "string"
            }
          },
          "metadata": {},
          "execution_count": 74
        }
      ]
    },
    {
      "cell_type": "code",
      "source": [
        "## Cadena complementaria\n",
        "print(saludo)\n",
        "saludo.replace(\"X\", \"e\")"
      ],
      "metadata": {
        "colab": {
          "base_uri": "https://localhost:8080/",
          "height": 53
        },
        "id": "crkQuQW0R75n",
        "outputId": "9addaa75-b28c-4e4e-de57-afaa27a454b9"
      },
      "execution_count": 75,
      "outputs": [
        {
          "output_type": "stream",
          "name": "stdout",
          "text": [
            "hola con todos, que bueno que no hay examen\n"
          ]
        },
        {
          "output_type": "execute_result",
          "data": {
            "text/plain": [
              "'hola con todos, que bueno que no hay examen'"
            ],
            "application/vnd.google.colaboratory.intrinsic+json": {
              "type": "string"
            }
          },
          "metadata": {},
          "execution_count": 75
        }
      ]
    },
    {
      "cell_type": "code",
      "source": [
        "p53_a = p53_l1.replace(\"A\", \"t\")\n",
        "p53_t = p53_a.replace(\"T\", \"a\")\n",
        "p53_g = p53_t.replace(\"G\", \"c\")\n",
        "p53_c = p53_g.replace(\"C\", \"g\") \n",
        "p53_l1c = p53_c.upper()\n",
        "p53_l1c\n"
      ],
      "metadata": {
        "colab": {
          "base_uri": "https://localhost:8080/",
          "height": 35
        },
        "id": "oiWyOjBESSRX",
        "outputId": "dee5f900-1b99-4bfd-88b0-d0ca00b4988d"
      },
      "execution_count": 76,
      "outputs": [
        {
          "output_type": "execute_result",
          "data": {
            "text/plain": [
              "'AAGGACCNGACATCCATCGCTGATGTCAATCCCCCGTGGATCGTAAGTCCGGGAGTAGGAGGAGGAAGGG'"
            ],
            "application/vnd.google.colaboratory.intrinsic+json": {
              "type": "string"
            }
          },
          "metadata": {},
          "execution_count": 76
        }
      ]
    },
    {
      "cell_type": "code",
      "source": [
        "print(p53_l1)\n",
        "print(p53_l1c)"
      ],
      "metadata": {
        "colab": {
          "base_uri": "https://localhost:8080/"
        },
        "id": "S4TsWmymUZht",
        "outputId": "c85be01d-1b02-4f22-9dc9-a0e0ab0ffeb7"
      },
      "execution_count": 77,
      "outputs": [
        {
          "output_type": "stream",
          "name": "stdout",
          "text": [
            "TTCCTGGNCTGTAGGTAGCGACTACAGTTAGGGGGCACCTAGCATTCAGGCCCTCATCCTCCTCCTTCCC\n",
            "AAGGACCNGACATCCATCGCTGATGTCAATCCCCCGTGGATCGTAAGTCCGGGAGTAGGAGGAGGAAGGG\n"
          ]
        }
      ]
    },
    {
      "cell_type": "code",
      "source": [
        "p53_l1c_r = p53_l1c[::-1]\n",
        "print(p53_l1)\n",
        "print(p53_l1c)\n",
        "print(p53_l1c_r)\n"
      ],
      "metadata": {
        "colab": {
          "base_uri": "https://localhost:8080/"
        },
        "id": "m_jaExmQVSBO",
        "outputId": "0a15fe42-17ef-4754-8859-8100dd51c191"
      },
      "execution_count": 80,
      "outputs": [
        {
          "output_type": "stream",
          "name": "stdout",
          "text": [
            "TTCCTGGNCTGTAGGTAGCGACTACAGTTAGGGGGCACCTAGCATTCAGGCCCTCATCCTCCTCCTTCCC\n",
            "AAGGACCNGACATCCATCGCTGATGTCAATCCCCCGTGGATCGTAAGTCCGGGAGTAGGAGGAGGAAGGG\n",
            "GGGAAGGAGGAGGATGAGGGCCTGAATGCTAGGTGCCCCCTAACTGTAGTCGCTACCTACAGNCCAGGAA\n"
          ]
        }
      ]
    },
    {
      "cell_type": "code",
      "source": [
        "print(p53_l1c_r)\n",
        "p53_l1c_r.find(\"TAC\") "
      ],
      "metadata": {
        "colab": {
          "base_uri": "https://localhost:8080/"
        },
        "id": "wZO_FWFYXXNi",
        "outputId": "3557a3c8-0242-4e43-ce11-d8a1d23db750"
      },
      "execution_count": 83,
      "outputs": [
        {
          "output_type": "stream",
          "name": "stdout",
          "text": [
            "GGGAAGGAGGAGGATGAGGGCCTGAATGCTAGGTGCCCCCTAACTGTAGTCGCTACCTACAGNCCAGGAA\n"
          ]
        },
        {
          "output_type": "execute_result",
          "data": {
            "text/plain": [
              "53"
            ]
          },
          "metadata": {},
          "execution_count": 83
        }
      ]
    },
    {
      "cell_type": "code",
      "source": [
        ""
      ],
      "metadata": {
        "id": "nNaV9wx3YM-R"
      },
      "execution_count": null,
      "outputs": []
    }
  ]
}